{
 "cells": [
  {
   "cell_type": "markdown",
   "metadata": {},
   "source": [
    "### Calculadora POO\n",
    "\n",
    "Crea una clase Calculadora con un método de clase llamado suma que acepte dos números como argumentos y devuelva la suma de ellos. Luego, utiliza este método para realizar algunas operaciones de suma."
   ]
  },
  {
   "cell_type": "code",
   "execution_count": null,
   "metadata": {},
   "outputs": [],
   "source": [
    "class Calculadora:\n",
    "    @classmethod\n",
    "    def suma(cls, num1, num2):\n",
    "        return num1 + num2\n",
    "\n",
    "# Ejemplo de uso:\n",
    "resultado = Calculadora.suma(5, 3)\n",
    "print(\"Resultado de la suma:\", resultado)"
   ]
  }
 ],
 "metadata": {
  "language_info": {
   "name": "python"
  },
  "orig_nbformat": 4
 },
 "nbformat": 4,
 "nbformat_minor": 2
}
