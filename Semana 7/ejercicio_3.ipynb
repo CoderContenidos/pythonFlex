{
 "cells": [
  {
   "cell_type": "markdown",
   "metadata": {},
   "source": [
    "###  Gestion de Empleados\n",
    "\n",
    "Crea una clase Empleado que tenga los siguientes atributos de instancia: nombre, apellido, edad, salario. Luego, crea una clase Gerente que herede de Empleado y tenga un atributo adicional departamento. Define métodos de instancia para ambas clases, como mostrar_informacion para mostrar los detalles de un empleado y aumentar_salario para aumentar el salario de un empleado en un porcentaje dado. Crea instancias de ambas clases y realiza algunas operaciones."
   ]
  },
  {
   "cell_type": "code",
   "execution_count": null,
   "metadata": {},
   "outputs": [],
   "source": [
    "class Empleado:\n",
    "    def __init__(self, nombre, apellido, edad, salario):\n",
    "        self.nombre = nombre\n",
    "        self.apellido = apellido\n",
    "        self.edad = edad\n",
    "        self.salario = salario\n",
    "\n",
    "    def mostrar_informacion(self):\n",
    "        return f\"Nombre: {self.nombre} {self.apellido}, Edad: {self.edad}, Salario: ${self.salario}\"\n",
    "\n",
    "    def aumentar_salario(self, porcentaje):\n",
    "        self.salario += self.salario * (porcentaje / 100)\n",
    "\n",
    "class Gerente(Empleado):\n",
    "    def __init__(self, nombre, apellido, edad, salario, departamento):\n",
    "        super().__init__(nombre, apellido, edad, salario)\n",
    "        self.departamento = departamento\n",
    "\n",
    "    def mostrar_informacion(self):\n",
    "        return super().mostrar_informacion() + f\", Departamento: {self.departamento}\"\n",
    "\n",
    "# Ejemplo de uso:\n",
    "empleado1 = Empleado(\"Juan\", \"Pérez\", 30, 40000)\n",
    "gerente1 = Gerente(\"Ana\", \"Gómez\", 35, 60000, \"Ventas\")\n",
    "\n",
    "print(empleado1.mostrar_informacion())\n",
    "print(gerente1.mostrar_informacion())\n",
    "\n",
    "empleado1.aumentar_salario(10)\n",
    "print(f\"Nuevo salario de {empleado1.nombre}: ${empleado1.salario}\")"
   ]
  }
 ],
 "metadata": {
  "language_info": {
   "name": "python"
  },
  "orig_nbformat": 4
 },
 "nbformat": 4,
 "nbformat_minor": 2
}
