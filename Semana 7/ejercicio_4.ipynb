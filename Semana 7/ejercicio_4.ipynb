{
 "cells": [
  {
   "cell_type": "markdown",
   "metadata": {},
   "source": [
    "### La Biblioteca\n",
    "\n",
    "Crea una clase Libro con atributos de instancia como titulo, autor, año_publicacion, y disponible (un valor booleano que indica si el libro está disponible o no). Luego, crea una clase Biblioteca que tenga una lista de libros y métodos de instancia para prestar un libro, devolver un libro y mostrar todos los libros disponibles. Utiliza atributos de clase para registrar la cantidad total de libros en la biblioteca. Crea instancias de ambas clases y realiza operaciones de préstamo y devolución de libros."
   ]
  },
  {
   "cell_type": "code",
   "execution_count": null,
   "metadata": {},
   "outputs": [],
   "source": [
    "class Libro:\n",
    "    def __init__(self, titulo, autor, año_publicacion):\n",
    "        self.titulo = titulo\n",
    "        self.autor = autor\n",
    "        self.año_publicacion = año_publicacion\n",
    "        self.disponible = True\n",
    "\n",
    "class Biblioteca:\n",
    "    cantidad_total_libros = 0\n",
    "\n",
    "    def __init__(self):\n",
    "        self.libros = []\n",
    "\n",
    "    def agregar_libro(self, libro):\n",
    "        self.libros.append(libro)\n",
    "        Biblioteca.cantidad_total_libros += 1\n",
    "\n",
    "    def prestar_libro(self, titulo):\n",
    "        for libro in self.libros:\n",
    "            if libro.titulo == titulo and libro.disponible:\n",
    "                libro.disponible = False\n",
    "                return f\"El libro '{titulo}' ha sido prestado.\"\n",
    "        return f\"El libro '{titulo}' no está disponible.\"\n",
    "\n",
    "    def devolver_libro(self, titulo):\n",
    "        for libro in self.libros:\n",
    "            if libro.titulo == titulo and not libro.disponible:\n",
    "                libro.disponible = True\n",
    "                return f\"El libro '{titulo}' ha sido devuelto.\"\n",
    "        return f\"El libro '{titulo}' no puede ser devuelto.\"\n",
    "\n",
    "    def mostrar_libros_disponibles(self):\n",
    "        disponibles = [libro.titulo for libro in self.libros if libro.disponible]\n",
    "        return f\"Libros disponibles: {', '.join(disponibles)}\"\n",
    "\n",
    "# Ejemplo de uso:\n",
    "libro1 = Libro(\"El Gran Gatsby\", \"F. Scott Fitzgerald\", 1925)\n",
    "libro2 = Libro(\"Cien Años de Soledad\", \"Gabriel García Márquez\", 1967)\n",
    "\n",
    "biblioteca = Biblioteca()\n",
    "biblioteca.agregar_libro(libro1)\n",
    "biblioteca.agregar_libro(libro2)\n",
    "\n",
    "print(biblioteca.prestar_libro(\"El Gran Gatsby\"))\n",
    "print(biblioteca.devolver_libro(\"El Gran Gatsby\"))\n",
    "print(biblioteca.mostrar_libros_disponibles())"
   ]
  }
 ],
 "metadata": {
  "language_info": {
   "name": "python"
  },
  "orig_nbformat": 4
 },
 "nbformat": 4,
 "nbformat_minor": 2
}
