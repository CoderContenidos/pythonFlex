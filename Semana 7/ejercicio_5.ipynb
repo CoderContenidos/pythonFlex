{
 "cells": [
  {
   "cell_type": "markdown",
   "metadata": {},
   "source": [
    "###  Tienda en Línea\n",
    "\n",
    "Crea una clase Producto con atributos de instancia como nombre, precio, cantidad_disponible y codigo_producto. Luego, crea una clase CarritoCompras que permita a los clientes agregar productos, eliminar productos y calcular el total de la compra. Utiliza un atributo de clase para rastrear la cantidad total de productos en el carrito de compras de todos los clientes. Crea instancias de ambas clases y simula operaciones de compra."
   ]
  },
  {
   "cell_type": "code",
   "execution_count": null,
   "metadata": {},
   "outputs": [],
   "source": [
    "class Producto:\n",
    "    def __init__(self, nombre, precio, cantidad_disponible, codigo_producto):\n",
    "        self.nombre = nombre\n",
    "        self.precio = precio\n",
    "        self.cantidad_disponible = cantidad_disponible\n",
    "        self.codigo_producto = codigo_producto\n",
    "\n",
    "class CarritoCompras:\n",
    "    cantidad_total_productos = 0\n",
    "\n",
    "    def __init__(self):\n",
    "        self.productos = []\n",
    "\n",
    "    def agregar_producto(self, producto):\n",
    "        self.productos.append(producto)\n",
    "        CarritoCompras.cantidad_total_productos += 1\n",
    "\n",
    "    def eliminar_producto(self, codigo_producto):\n",
    "        for producto in self.productos:\n",
    "            if producto.codigo_producto == codigo_producto:\n",
    "                self.productos.remove(producto)\n",
    "                CarritoCompras.cantidad_total_productos -= 1\n",
    "                return f\"Producto '{producto.nombre}' eliminado del carrito.\"\n",
    "        return f\"Producto con código '{codigo_producto}' no encontrado en el carrito.\"\n",
    "\n",
    "    def calcular_total_compra(self):\n",
    "        total = sum([producto.precio for producto in self.productos])\n",
    "        return f\"Total de compra: ${total}\"\n",
    "\n",
    "# Ejemplo de uso:\n",
    "producto1 = Producto(\"Laptop\", 800, 5, \"LP001\")\n",
    "producto2 = Producto(\"Teléfono\", 300, 10, \"PH002\")\n",
    "\n",
    "carrito = CarritoCompras()\n",
    "carrito.agregar_producto(producto1)\n",
    "carrito.agregar_producto(producto2)\n",
    "\n",
    "print(carrito.eliminar_producto(\"PH002\"))\n",
    "print(carrito.calcular_total_compra())"
   ]
  }
 ],
 "metadata": {
  "language_info": {
   "name": "python"
  },
  "orig_nbformat": 4
 },
 "nbformat": 4,
 "nbformat_minor": 2
}
