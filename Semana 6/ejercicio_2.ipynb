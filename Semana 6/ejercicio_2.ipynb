{
 "cells": [
  {
   "cell_type": "markdown",
   "metadata": {},
   "source": [
    "### Edad correcta\n",
    "Escribe un programa que permita al usuario ingresar su edad. El programa debe validar si la edad ingresada está dentro del rango de 18 a 65 años, y mostrar un mensaje correspondiente. Utiliza un bloque try-except con múltiples bloques except para manejar posibles errores relacionados con la entrada del usuario, como una entrada no numérica o una edad fuera del rango válido (puedes usar la funcionalidad 'raise' para que se genere una excepcion ).\n",
    "\n",
    "**IMPORTANTE**: La función raise se utiliza para generar manualmente una excepción en Python. Puedes especificar el tipo de excepción que deseas generar y opcionalmente proporcionar un mensaje de error personalizado. Por ejemplo:\n",
    "```\n",
    "# Generar una excepción ValueError con un mensaje personalizado\n",
    "raise ValueError(\"Este es un mensaje de error personalizado.\")\n",
    "```\n",
    "En el ejemplo anterior, se genera una excepción ValueError con el mensaje \"Este es un mensaje de error personalizado.\" Esta funcionalidad puede ser útil cuando deseas controlar el flujo de tu programa y generar excepciones específicas en función de condiciones personalizadas."
   ]
  },
  {
   "cell_type": "code",
   "execution_count": null,
   "metadata": {},
   "outputs": [],
   "source": [
    "try:\n",
    "    numero = float(input(\"Ingresa un número positivo: \"))\n",
    "    \n",
    "    if numero <= 0:\n",
    "        raise ValueError()\n",
    "    else:\n",
    "        print(f\"Has ingresado el número {numero}.\")\n",
    "    \n",
    "except TypeError:\n",
    "    print(\"Error: La entrada no es un número.\")\n",
    "except ValueError:\n",
    "    print(\"Error: Ingresa un número válido.\")\n",
    "except:\n",
    "    print(\"Error desconocido.\")\n"
   ]
  }
 ],
 "metadata": {
  "language_info": {
   "name": "python"
  },
  "orig_nbformat": 4
 },
 "nbformat": 4,
 "nbformat_minor": 2
}
