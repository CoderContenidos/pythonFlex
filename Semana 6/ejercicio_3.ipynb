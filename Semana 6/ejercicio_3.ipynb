{
 "cells": [
  {
   "cell_type": "markdown",
   "metadata": {},
   "source": [
    "### Estamos de oferta\n",
    "Escribe un programa que permita al usuario ingresar el precio de un producto y un código de descuento. El programa debe validar si el precio es un número positivo y si el código de descuento es válido. Los errores posibles incluyen entradas no numéricas, números negativos y códigos de descuento no válidos. Utiliza un bloque try-except con varios bloques except para manejar estos errores y mostrar mensajes de error específicos en cada caso.\n",
    "\n",
    "Los codigos de descuento son:\n",
    "descuentos_validos = [\"DESC10\", \"DESC20\", \"DESC30\"]"
   ]
  },
  {
   "cell_type": "code",
   "execution_count": null,
   "metadata": {},
   "outputs": [],
   "source": [
    "try:\n",
    "    precio = float(input(\"Ingresa el precio del producto: \"))\n",
    "    codigo_descuento = input(\"Ingresa el código de descuento: \")\n",
    "    \n",
    "    if precio <= 0:\n",
    "        raise ValueError(\"El precio debe ser un número positivo.\")\n",
    "    \n",
    "    descuentos_validos = [\"DESC10\", \"DESC20\", \"DESC30\"]\n",
    "    \n",
    "    if codigo_descuento not in descuentos_validos:\n",
    "        raise ValueError(\"Código de descuento no válido.\")\n",
    "    \n",
    "    if codigo_descuento == \"DESC10\":\n",
    "        precio_descuento = precio * 0.9\n",
    "    elif codigo_descuento == \"DESC20\":\n",
    "        precio_descuento = precio * 0.8\n",
    "    else:\n",
    "        precio_descuento = precio * 0.7\n",
    "    \n",
    "    print(f\"El precio con descuento es: {precio_descuento}\")\n",
    "    \n",
    "except ValueError as ve:\n",
    "    print(f\"Error de Valor: {ve}\")\n",
    "except TypeError:\n",
    "    print(\"Error: La entrada no es válida.\")\n",
    "except Exception as e:\n",
    "    print(f\"Error desconocido: {e}\")"
   ]
  }
 ],
 "metadata": {
  "language_info": {
   "name": "python"
  },
  "orig_nbformat": 4
 },
 "nbformat": 4,
 "nbformat_minor": 2
}
