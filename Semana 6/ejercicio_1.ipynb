{
 "cells": [
  {
   "cell_type": "markdown",
   "metadata": {},
   "source": [
    "### Búsqueda del error\n",
    "Desarrolla un programa que permita al usuario buscar información sobre ciudades. Tendrás un diccionario llamado ciudades_info que contiene información sobre algunas ciudades, como su país, población y puntos de interés. El programa debe permitir al usuario ingresar el nombre de una ciudad y mostrar la información correspondiente. El programa debe poder manejar el caso en el que la ciudad no existe en el diccionario y mostrando un mensaje avisando del error.\n",
    "\n",
    "```\n",
    "ciudades_info = {\n",
    "    'Paris': {\n",
    "        'Pais': 'Francia',\n",
    "        'Poblacion': 2187526,\n",
    "        'Puntos_de_Interes': ['Torre Eiffel', 'Louvre', 'Catedral de Notre-Dame']\n",
    "    },\n",
    "    'Nueva York': {\n",
    "        'Pais': 'Estados Unidos',\n",
    "        'Poblacion': 8398748,\n",
    "        'Puntos_de_Interes': ['Estatua de la Libertad', 'Central Park', 'Times Square']\n",
    "    },\n",
    "    'Tokio': {\n",
    "        'Pais': 'Japón',\n",
    "        'Poblacion': 13929286,\n",
    "        'Puntos_de_Interes': ['Torre de Tokio', 'Templo Senso-ji', 'Palacio Imperial']\n",
    "    }\n",
    "}\n",
    "```"
   ]
  },
  {
   "cell_type": "code",
   "execution_count": null,
   "metadata": {},
   "outputs": [],
   "source": [
    "ciudades_info = {\n",
    "    'Paris': {\n",
    "        'Pais': 'Francia',\n",
    "        'Poblacion': 2187526,\n",
    "        'Puntos_de_Interes': ['Torre Eiffel', 'Louvre', 'Catedral de Notre-Dame']\n",
    "    },\n",
    "    'Nueva York': {\n",
    "        'Pais': 'Estados Unidos',\n",
    "        'Poblacion': 8398748,\n",
    "        'Puntos_de_Interes': ['Estatua de la Libertad', 'Central Park', 'Times Square']\n",
    "    },\n",
    "    'Tokio': {\n",
    "        'Pais': 'Japón',\n",
    "        'Poblacion': 13929286,\n",
    "        'Puntos_de_Interes': ['Torre de Tokio', 'Templo Senso-ji', 'Palacio Imperial']\n",
    "    }\n",
    "}\n",
    "\n",
    "ciudad = input(\"Ingresa el nombre de una ciudad: \")\n",
    "\n",
    "try:\n",
    "    informacion = ciudades_info[ciudad]\n",
    "    print(f\"Información sobre {ciudad}:\")\n",
    "    print(f\"País: {informacion['Pais']}\")\n",
    "    print(f\"Población: {informacion['Poblacion']}\")\n",
    "    print(f\"Puntos de Interés: {', '.join(informacion['Puntos_de_Interes'])}\")\n",
    "except KeyError:\n",
    "    print(f\"Error: La ciudad '{ciudad}' no está en la base de datos.\")\n"
   ]
  }
 ],
 "metadata": {
  "language_info": {
   "name": "python"
  },
  "orig_nbformat": 4
 },
 "nbformat": 4,
 "nbformat_minor": 2
}
