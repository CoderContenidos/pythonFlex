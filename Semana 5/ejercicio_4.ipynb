{
 "cells": [
  {
   "cell_type": "markdown",
   "metadata": {},
   "source": [
    "### Tu Promedio\n",
    "Crea un programa que permita calcular el promedio de un número variable de notas ingresadas por el usuario. La función calcular_promedio debe aceptar *args para recibir un número variable de notas. Luego, muestra el promedio de las notas ingresadas."
   ]
  },
  {
   "cell_type": "code",
   "execution_count": null,
   "metadata": {},
   "outputs": [],
   "source": [
    "def calcular_promedio(*notas):\n",
    "    total = sum(notas)\n",
    "    promedio = total / len(notas)\n",
    "    return promedio\n",
    "\n",
    "print(\"Calculadora de Promedio de Notas\")\n",
    "notas = []\n",
    "\n",
    "while True:\n",
    "    nota = float(input(\"Ingresa una nota (o 0 para calcular el promedio): \"))\n",
    "    if nota == 0:\n",
    "        break\n",
    "    notas.append(nota)\n",
    "\n",
    "if notas:\n",
    "    promedio = calcular_promedio(*notas)\n",
    "    print(f\"El promedio de las notas ingresadas es: {promedio:.2f}\")\n",
    "else:\n",
    "    print(\"No se ingresaron notas.\")\n"
   ]
  }
 ],
 "metadata": {
  "language_info": {
   "name": "python"
  },
  "orig_nbformat": 4
 },
 "nbformat": 4,
 "nbformat_minor": 2
}
