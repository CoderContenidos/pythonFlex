{
 "cells": [
  {
   "cell_type": "markdown",
   "metadata": {},
   "source": [
    "### Gestión de Tareas Pendientes\n",
    "Crea un programa que permita a un usuario llevar un registro de tareas pendientes. El programa debe permitir al usuario agregar tareas, marcar tareas como completadas (agregarle un tilde o algo que identifique que se completo al principio de la tarea) y listar las tareas pendientes. Utiliza una lista y funciones separadas para gestionar las tareas."
   ]
  },
  {
   "cell_type": "code",
   "execution_count": null,
   "metadata": {},
   "outputs": [],
   "source": [
    "def agregar_tarea(tareas, tarea):\n",
    "    # Agrega una nueva tarea a la lista \"tareas\".\n",
    "    tareas.append(tarea)\n",
    "\n",
    "def marcar_completada(tareas, indice):\n",
    "    # Marca una tarea como completada agregando \"✔\" al principio.\n",
    "    if 0 <= indice < len(tareas):\n",
    "        tareas[indice] = \"✔ \" + tareas[indice]\n",
    "\n",
    "def listar_tareas(tareas):\n",
    "    # Muestra las tareas pendientes numeradas.\n",
    "    for i, tarea in enumerate(tareas):\n",
    "        print(f\"{i + 1}. {tarea}\")\n",
    "\n",
    "tareas_pendientes = []  # Lista para almacenar tareas pendientes.\n",
    "\n",
    "while True:\n",
    "    print(\"\\n1. Agregar tarea\")\n",
    "    print(\"2. Marcar tarea como completada\")\n",
    "    print(\"3. Listar tareas pendientes\")\n",
    "    print(\"4. Salir\")\n",
    "    opcion = input(\"Selecciona una opción: \")\n",
    "\n",
    "    if opcion == '1':\n",
    "        tarea = input(\"Ingresa la tarea pendiente: \")\n",
    "        agregar_tarea(tareas_pendientes, tarea)\n",
    "        print(\"Tarea agregada.\")\n",
    "    elif opcion == '2':\n",
    "        listar_tareas(tareas_pendientes)\n",
    "        indice = int(input(\"Ingresa el número de la tarea completada: \")) - 1\n",
    "        marcar_completada(tareas_pendientes, indice)\n",
    "        print(\"Tarea marcada como completada.\")\n",
    "    elif opcion == '3':\n",
    "        listar_tareas(tareas_pendientes)\n",
    "    elif opcion == '4':\n",
    "        break\n"
   ]
  }
 ],
 "metadata": {
  "language_info": {
   "name": "python"
  },
  "orig_nbformat": 4
 },
 "nbformat": 4,
 "nbformat_minor": 2
}
