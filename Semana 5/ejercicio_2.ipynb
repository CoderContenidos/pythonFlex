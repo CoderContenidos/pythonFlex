{
 "cells": [
  {
   "cell_type": "markdown",
   "metadata": {},
   "source": [
    "### Contactame\n",
    "Desarrolla un programa que permita a un usuario registrar información de contactos (nombre, número de teléfono y correo electrónico). El programa debe almacenar estos contactos y permitir al usuario buscar contactos por nombre o número de teléfono. Utiliza un diccionario para gestionar los contactos y funciones separadas para realizar estas acciones."
   ]
  },
  {
   "cell_type": "code",
   "execution_count": null,
   "metadata": {},
   "outputs": [],
   "source": [
    "def agregar_contacto(agenda, nombre, telefono, correo):\n",
    "    # Agrega un nuevo contacto al diccionario \"agenda\".\n",
    "    agenda[nombre] = {'Teléfono': telefono, 'Correo': correo}\n",
    "\n",
    "def buscar_contacto(agenda, criterio):\n",
    "    # Busca y muestra contactos por nombre o número de teléfono.\n",
    "    for nombre, info in agenda.items():\n",
    "        if criterio in nombre or criterio == info['Teléfono']:\n",
    "            print(f\"Nombre: {nombre}\")\n",
    "            print(f\"Teléfono: {info['Teléfono']}\")\n",
    "            print(f\"Correo: {info['Correo']}\")\n",
    "\n",
    "agenda = {}  # Diccionario para almacenar contactos.\n",
    "\n",
    "while True:\n",
    "    print(\"\\n1. Agregar contacto\")\n",
    "    print(\"2. Buscar contacto\")\n",
    "    print(\"3. Salir\")\n",
    "    opcion = input(\"Selecciona una opción: \")\n",
    "\n",
    "    if opcion == '1':\n",
    "        nombre = input(\"Ingresa el nombre del contacto: \")\n",
    "        telefono = input(\"Ingresa el número de teléfono: \")\n",
    "        correo = input(\"Ingresa el correo electrónico: \")\n",
    "        agregar_contacto(agenda, nombre, telefono, correo)\n",
    "        print(\"Contacto agregado.\")\n",
    "    elif opcion == '2':\n",
    "        criterio = input(\"Ingresa el nombre o número de teléfono a buscar: \")\n",
    "        buscar_contacto(agenda, criterio)\n",
    "    elif opcion == '3':\n",
    "        break\n"
   ]
  }
 ],
 "metadata": {
  "language_info": {
   "name": "python"
  },
  "orig_nbformat": 4
 },
 "nbformat": 4,
 "nbformat_minor": 2
}
