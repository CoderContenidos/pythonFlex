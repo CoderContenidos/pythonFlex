{
 "cells": [
  {
   "cell_type": "markdown",
   "metadata": {},
   "source": [
    "### Configuración de Red\n",
    "Crea un programa que permita a un usuario configurar la red de una computadora. El programa debe aceptar argumentos clave para configurar la dirección IP, la máscara de subred y la puerta de enlace. Luego, muestra la configuración de red completa."
   ]
  },
  {
   "cell_type": "code",
   "execution_count": null,
   "metadata": {},
   "outputs": [],
   "source": [
    "def configurar_red(**kwargs):\n",
    "    print(\"\\nConfiguración de Red:\")\n",
    "    for clave, valor in kwargs.items():\n",
    "        print(f\"{clave}: {valor}\")\n",
    "\n",
    "while True:\n",
    "    print(\"\\n1. Configurar Red\")\n",
    "    print(\"2. Salir\")\n",
    "    opcion = input(\"Selecciona una opción: \")\n",
    "\n",
    "    if opcion == '1':\n",
    "        ip = input(\"Ingresa la dirección IP: \")\n",
    "        mascara = input(\"Ingresa la máscara de subred: \")\n",
    "        puerta_enlace = input(\"Ingresa la puerta de enlace: \")\n",
    "        configurar_red(IP=ip, Máscara=mascara, Puerta_enlace=puerta_enlace)\n",
    "    elif opcion == '2':\n",
    "        break"
   ]
  }
 ],
 "metadata": {
  "language_info": {
   "name": "python"
  },
  "orig_nbformat": 4
 },
 "nbformat": 4,
 "nbformat_minor": 2
}
