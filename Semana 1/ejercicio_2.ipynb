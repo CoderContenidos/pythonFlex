{
 "cells": [
  {
   "cell_type": "markdown",
   "metadata": {},
   "source": [
    "### Los caracteres ultimos rien mejor\n",
    "Crea un programa que tome una cadena de texto como entrada del usuario. Luego, muestra por pantalla los primeros tres caracteres de la cadena, seguidos por los tres últimos caracteres. Además, concatena ambos subconjuntos y muestra el resultado."
   ]
  },
  {
   "cell_type": "code",
   "execution_count": null,
   "metadata": {},
   "outputs": [],
   "source": [
    "# Solicitar al usuario una cadena de texto\n",
    "cadena = input(\"Ingresa una cadena de texto: \")\n",
    "\n",
    "# Obtener los primeros tres caracteres\n",
    "primeros_tres = cadena[:3]\n",
    "\n",
    "# Obtener los tres últimos caracteres\n",
    "ultimos_tres = cadena[-3:]\n",
    "\n",
    "# Concatenar los subconjuntos y mostrar el resultado\n",
    "concatenados = primeros_tres + ultimos_tres\n",
    "print(\"Primeros tres caracteres:\", primeros_tres)\n",
    "print(\"Últimos tres caracteres:\", ultimos_tres)\n",
    "print(\"Concatenados:\", concatenados)"
   ]
  }
 ],
 "metadata": {
  "language_info": {
   "name": "python"
  },
  "orig_nbformat": 4
 },
 "nbformat": 4,
 "nbformat_minor": 2
}
