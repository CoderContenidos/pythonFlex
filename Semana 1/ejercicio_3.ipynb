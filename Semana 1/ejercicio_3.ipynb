{
 "cells": [
  {
   "cell_type": "markdown",
   "metadata": {},
   "source": [
    "### Cambio manual\n",
    "Crea un programa que inicie con una lista de números enteros. Luego, solicita al usuario un número entero y un indice (que no exceda los indices que maneja la lista de numeros enteros) para reemplazar un elemento en la lista por el nuevo número ingresado en el indice ingresado. Imprime la lista resultante."
   ]
  },
  {
   "cell_type": "code",
   "execution_count": null,
   "metadata": {},
   "outputs": [],
   "source": [
    "# Iniciar una lista de números enteros\n",
    "numeros = [10, 20, 30, 40, 50]\n",
    "\n",
    "# Solicitar al usuario un número y un índice\n",
    "numero_nuevo = int(input(\"Ingresa un número nuevo: \"))\n",
    "indice = int(input(\"Ingresa un índice (0 al 4): \"))\n",
    "\n",
    "# Reemplazar el número en el índice dado\n",
    "numeros[indice] = numero_nuevo\n",
    "\n",
    "# Mostrar la lista resultante\n",
    "print(\"Lista resultante:\", numeros)"
   ]
  }
 ],
 "metadata": {
  "language_info": {
   "name": "python"
  },
  "orig_nbformat": 4
 },
 "nbformat": 4,
 "nbformat_minor": 2
}
