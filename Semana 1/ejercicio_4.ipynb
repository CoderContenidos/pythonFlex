{
 "cells": [
  {
   "cell_type": "markdown",
   "metadata": {},
   "source": [
    "### Cuanto y donde?\n",
    "Crea un programa que teniendo en cuenta la siguiente tupla, muestre el valor del segundo elemento de la misma. Ademas, debe mostrar cuantas veces se repite este valor y mostrar cual es el indice del valor repetido.\n",
    "\n",
    "palabras_tupla = (\"manzana\", \"pera\", \"uva\", \"naranja\", \"sandía\", \"manzana\", \"plátano\", \"kiwi\", \"pera\", \"fresa\", \"mango\", \"uva\", \"cereza\", \"manzana\", \"durazno\")"
   ]
  },
  {
   "cell_type": "code",
   "execution_count": null,
   "metadata": {},
   "outputs": [],
   "source": [
    "# Definir la tupla de palabras\n",
    "palabras_tupla = (\"manzana\", \"pera\", \"uva\", \"naranja\", \"sandía\", \"manzana\", \"plátano\",\n",
    "                  \"kiwi\", \"pera\", \"fresa\", \"mango\", \"uva\", \"cereza\", \"manzana\", \"durazno\")\n",
    "\n",
    "# Obtener el valor del segundo elemento de la tupla\n",
    "segundo_elemento = palabras_tupla[1]\n",
    "\n",
    "# Contar las repeticiones del segundo elemento\n",
    "repeticiones = palabras_tupla.count(segundo_elemento)\n",
    "\n",
    "# Encontrar los índices del segundo elemento\n",
    "indice = palabras_tupla.index(segundo_elemento, 2)\n",
    "\n",
    "# Mostrar resultados\n",
    "print(\"El valor del segundo elemento es:\", segundo_elemento)\n",
    "print(\"El valor se repite\", repeticiones, \"veces.\")\n",
    "print(\"El índice de la segunda aparicion del valor es:\", indice)"
   ]
  }
 ],
 "metadata": {
  "language_info": {
   "name": "python"
  },
  "orig_nbformat": 4
 },
 "nbformat": 4,
 "nbformat_minor": 2
}
