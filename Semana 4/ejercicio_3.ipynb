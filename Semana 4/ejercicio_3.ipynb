{
 "cells": [
  {
   "cell_type": "markdown",
   "metadata": {},
   "source": [
    "### Vocales perdidas?\n",
    "Crea un programa que solicite al usuario ingresar una palabra. Luego, recorre la palabra y cuenta cuántas vocales contiene. Al final, si no se encontraron vocales, muestra un mensaje comunicando que la palabra ingresada contiene solo consonantes."
   ]
  },
  {
   "cell_type": "code",
   "execution_count": null,
   "metadata": {},
   "outputs": [],
   "source": [
    "palabra = input(\"Ingresa una palabra: \")\n",
    "vocales = \"aeiouAEIOU\"\n",
    "contador_vocales = 0\n",
    "\n",
    "for letra in palabra:\n",
    "    if letra in vocales:\n",
    "        contador_vocales += 1\n",
    "else:\n",
    "    if contador_vocales == 0:\n",
    "        print(\"La palabra no contiene vocales.\")\n",
    "    else:\n",
    "        print(f\"La palabra contiene {contador_vocales} vocales.\")"
   ]
  }
 ],
 "metadata": {
  "language_info": {
   "name": "python"
  },
  "orig_nbformat": 4
 },
 "nbformat": 4,
 "nbformat_minor": 2
}
