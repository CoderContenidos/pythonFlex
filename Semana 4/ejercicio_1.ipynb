{
 "cells": [
  {
   "cell_type": "markdown",
   "metadata": {},
   "source": [
    "### Hay Tabla\n",
    "Escribe un programa que tome un número entero positivo ingresado por el usuario y muestre la tabla de multiplicar de ese número. Repetir la solicitud al usuario de ingresar un nuevo número hasta que ingrese un cero."
   ]
  },
  {
   "cell_type": "code",
   "execution_count": null,
   "metadata": {},
   "outputs": [],
   "source": [
    "while True:\n",
    "    numero = int(input(\"Ingresa un número positivo (o un número negativo para salir): \"))\n",
    "    if numero == 0:\n",
    "        break\n",
    "    for i in range(1, 11):\n",
    "        resultado = numero * i\n",
    "        print(f\"{numero} x {i} = {resultado}\")"
   ]
  }
 ],
 "metadata": {
  "language_info": {
   "name": "python"
  },
  "orig_nbformat": 4
 },
 "nbformat": 4,
 "nbformat_minor": 2
}
