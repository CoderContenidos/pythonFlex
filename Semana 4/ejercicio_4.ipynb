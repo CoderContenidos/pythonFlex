{
 "cells": [
  {
   "cell_type": "markdown",
   "metadata": {},
   "source": [
    "### Salteando palabras\n",
    "Escribe un programa que tome una lista de palabras ingresadas por el usuario. Luego, muestre cada palabra una por una. Si la palabra es \"salir\", finaliza el programa. Si la palabra es \"omitir\", se pasa a la siguiente iteración. Al final, si ninguna palabra fue \"salir\", muestra un mensaje avisando la situacion."
   ]
  },
  {
   "cell_type": "code",
   "execution_count": null,
   "metadata": {},
   "outputs": [],
   "source": [
    "palabras = input(\n",
    "    \"Ingresa una lista de palabras separadas por espacios: \"\n",
    "  ).split()\n",
    "\n",
    "for palabra in palabras:\n",
    "    if palabra == \"salir\":\n",
    "        break\n",
    "    elif palabra == \"omitir\":\n",
    "        continue\n",
    "    else:\n",
    "        print(palabra)\n",
    "else:\n",
    "    print(\"No se encontró la palabra 'salir'.\")"
   ]
  }
 ],
 "metadata": {
  "language_info": {
   "name": "python"
  },
  "orig_nbformat": 4
 },
 "nbformat": 4,
 "nbformat_minor": 2
}
