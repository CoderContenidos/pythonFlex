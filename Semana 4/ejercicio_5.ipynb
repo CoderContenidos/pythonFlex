{
 "cells": [
  {
   "cell_type": "markdown",
   "metadata": {},
   "source": [
    "### Inventario\n",
    "Imagina que estás administrando un pequeño almacén y deseas realizar un seguimiento de los productos en tu inventario. Escribe un programa que te permita ingresar el nombre y la cantidad de varios productos. Utiliza un bucle para recorrer los productos y mostrar su nombre y cantidad. Al final, muestra el total de productos en el inventario."
   ]
  },
  {
   "cell_type": "code",
   "execution_count": null,
   "metadata": {},
   "outputs": [],
   "source": [
    "inventario = {}\n",
    "\n",
    "num_productos = int(input(\"Ingresa la cantidad de productos en el inventario a cargar: \"))\n",
    "\n",
    "# el _ se suele utilizar par adefinir variables que no se van a utilizar como\n",
    "# en este caso que no se utiliza su valor dentro del for\n",
    "for _ in range(num_productos):\n",
    "    nombre = input(\"Ingresa el nombre del producto: \")\n",
    "    cantidad = int(input(f\"Ingresa la cantidad de {nombre}: \"))\n",
    "    inventario[nombre] = cantidad\n",
    "\n",
    "print(\"\\nInventario:\")\n",
    "total_productos = 0\n",
    "\n",
    "for producto, cantidad in inventario.items():\n",
    "    print(f\"{producto}: {cantidad}\")\n",
    "    total_productos += cantidad\n",
    "\n",
    "print(\"\\nTotal de productos en el inventario:\", total_productos)"
   ]
  }
 ],
 "metadata": {
  "language_info": {
   "name": "python"
  },
  "orig_nbformat": 4
 },
 "nbformat": 4,
 "nbformat_minor": 2
}
