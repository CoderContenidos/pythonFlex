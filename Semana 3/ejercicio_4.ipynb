{
 "cells": [
  {
   "cell_type": "markdown",
   "metadata": {},
   "source": [
    "### Alineando la condicional\n",
    "Escribe un programa que tome un número entero ingresado por el usuario y muestre \"Es positivo\" si el número es mayor que cero, de lo contrario, muestra \"No es positivo\"."
   ]
  },
  {
   "cell_type": "code",
   "execution_count": null,
   "metadata": {},
   "outputs": [],
   "source": [
    "numero = int(input(\"Ingresa un número: \"))\n",
    "resultado = \"Es positivo\" if numero > 0 else \"No es positivo\"\n",
    "print(resultado)"
   ]
  }
 ],
 "metadata": {
  "language_info": {
   "name": "python"
  },
  "orig_nbformat": 4
 },
 "nbformat": 4,
 "nbformat_minor": 2
}
