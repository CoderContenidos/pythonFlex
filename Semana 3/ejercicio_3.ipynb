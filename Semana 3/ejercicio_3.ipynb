{
 "cells": [
  {
   "cell_type": "markdown",
   "metadata": {},
   "source": [
    "### Positivo! Par si o Par no? \n",
    "Crea un programa que solicite un número entero al usuario y determine si es un número negativo, positivo o igual a cero. En caso de ser positivo, verifica si es par o impar."
   ]
  },
  {
   "cell_type": "code",
   "execution_count": null,
   "metadata": {},
   "outputs": [],
   "source": [
    "numero = int(input(\"Ingresa un número: \"))\n",
    "\n",
    "if numero > 0:\n",
    "    if numero % 2 == 0:\n",
    "        print(\"El número es positivo y par.\")\n",
    "    else:\n",
    "        print(\"El número es positivo e impar.\")\n",
    "elif numero < 0:\n",
    "    print(\"El número es negativo.\")\n",
    "else:\n",
    "    print(\"El número es igual a cero.\")"
   ]
  }
 ],
 "metadata": {
  "language_info": {
   "name": "python"
  },
  "orig_nbformat": 4
 },
 "nbformat": 4,
 "nbformat_minor": 2
}
