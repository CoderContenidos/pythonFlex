{
 "cells": [
  {
   "cell_type": "markdown",
   "metadata": {},
   "source": [
    "### x 3, x 5\n",
    "Escribe un programa que tome un número entero ingresado por el usuario y determine si es un número par, divisible por 3 y 5 al mismo tiempo, o ninguno de los anteriores."
   ]
  },
  {
   "cell_type": "code",
   "execution_count": null,
   "metadata": {},
   "outputs": [],
   "source": [
    "numero = int(input(\"Ingresa un número: \"))\n",
    "\n",
    "if numero % 2 == 0:\n",
    "    if numero % 3 == 0 and numero % 5 == 0:\n",
    "        print(\"El número es par y divisible por 3 y 5.\")\n",
    "    else:\n",
    "        print(\"El número es par pero no es divisible por 3 y 5.\")\n",
    "else:\n",
    "    print(\"El número no es par.\")"
   ]
  }
 ],
 "metadata": {
  "language_info": {
   "name": "python"
  },
  "orig_nbformat": 4
 },
 "nbformat": 4,
 "nbformat_minor": 2
}
