{
 "cells": [
  {
   "cell_type": "markdown",
   "metadata": {},
   "source": [
    "### Paresitos\n",
    "Crea un programa que solicite dos números enteros al usuario y determine si ambos son números pares."
   ]
  },
  {
   "cell_type": "code",
   "execution_count": null,
   "metadata": {},
   "outputs": [],
   "source": [
    "numero1 = int(input(\"Ingresa el primer número: \"))\n",
    "numero2 = int(input(\"Ingresa el segundo número: \"))\n",
    "\n",
    "if numero1 % 2 == 0 and numero2 % 2 == 0:\n",
    "    print(\"Ambos números son pares.\")\n",
    "else:\n",
    "    print(\"Al menos uno de los números no es par.\")"
   ]
  }
 ],
 "metadata": {
  "language_info": {
   "name": "python"
  },
  "orig_nbformat": 4
 },
 "nbformat": 4,
 "nbformat_minor": 2
}
