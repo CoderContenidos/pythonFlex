{
 "cells": [
  {
   "cell_type": "markdown",
   "metadata": {},
   "source": [
    "### Python uno, Python dos, Python 3...\n",
    "Crea un programa que tome una oración ingresada por el usuario y realice las siguientes operaciones: convierte la oración a mayúsculas, cuenta cuántas veces aparece la palabra \"python\", y muestra la oración sin espacios en blanco al inicio y al final."
   ]
  },
  {
   "cell_type": "code",
   "execution_count": null,
   "metadata": {},
   "outputs": [],
   "source": [
    "# Solicitar al usuario una oración\n",
    "oracion = input(\"Ingresa una oración: \")\n",
    "\n",
    "# Convertir la oración a mayúsculas\n",
    "oracion_mayusculas = oracion.upper()\n",
    "\n",
    "# Contar cuántas veces aparece \"python\" en la oración\n",
    "contador_python = oracion.count(\"python\")\n",
    "\n",
    "# Mostrar la oración sin espacios en blanco al inicio y al final\n",
    "oracion_sin_espacios = oracion.strip()\n",
    "\n",
    "print(\"Oración en mayúsculas:\", oracion_mayusculas)\n",
    "print(\"Cantidad de veces 'python' aparece:\", contador_python)\n",
    "print(\"Oración sin espacios en blanco:\", oracion_sin_espacios)"
   ]
  }
 ],
 "metadata": {
  "language_info": {
   "name": "python"
  },
  "orig_nbformat": 4
 },
 "nbformat": 4,
 "nbformat_minor": 2
}
