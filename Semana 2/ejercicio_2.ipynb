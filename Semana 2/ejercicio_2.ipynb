{
 "cells": [
  {
   "cell_type": "markdown",
   "metadata": {},
   "source": [
    "### Actualizando la tienda\n",
    "Crea un programa que simule un inventario de productos en una tienda. Inicia con un diccionario que contenga algunos productos y sus cantidades. Luego, permite al usuario agregar un nuevo producto con su cantidad y actualizar la cantidad de un producto existente. Muestra el inventario actualizado.\n",
    "\n",
    "Productos y cantidades\n",
    "\n",
    "Manzanas => 50\n",
    "\n",
    "Bananas => 30\n",
    "\n",
    "Peras => 40"
   ]
  },
  {
   "cell_type": "code",
   "execution_count": null,
   "metadata": {},
   "outputs": [],
   "source": [
    "# Inicializar el diccionario de inventario de productos\n",
    "inventario = {\n",
    "    \"Manzanas\": 50,\n",
    "    \"Bananas\": 30,\n",
    "    \"Peras\": 40\n",
    "}\n",
    "\n",
    "# Agregar un nuevo producto al inventario\n",
    "nuevo_producto = input(\"Ingresa el nombre de un nuevo producto: \")\n",
    "cantidad_nuevo_producto = int(input(f\"Ingresa la cantidad de {nuevo_producto}: \"))\n",
    "inventario[nuevo_producto] = cantidad_nuevo_producto\n",
    "\n",
    "# Actualizar la cantidad de un producto existente\n",
    "producto_existente = input(\"Ingresa el nombre de un producto existente: \")\n",
    "nueva_cantidad_existente = int(input(f\"Ingresa la nueva cantidad de {producto_existente}: \"))\n",
    "inventario[producto_existente] = nueva_cantidad_existente\n",
    "\n",
    "# Mostrar el inventario actualizado\n",
    "print(\"Inventario actualizado:\", inventario)"
   ]
  }
 ],
 "metadata": {
  "language_info": {
   "name": "python"
  },
  "orig_nbformat": 4
 },
 "nbformat": 4,
 "nbformat_minor": 2
}
