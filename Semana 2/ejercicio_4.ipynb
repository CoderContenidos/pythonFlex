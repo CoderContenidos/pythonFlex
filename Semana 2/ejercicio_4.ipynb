{
 "cells": [
  {
   "cell_type": "markdown",
   "metadata": {},
   "source": [
    "### Intersectando y uniendo\n",
    "Crea dos conjuntos con números ingresados por el usuario separados por coma. Luego, muestra cuales elementos tienen en común los conjuntos y crea un nuevo conjunto que contenga la unión de ambos conjuntos."
   ]
  },
  {
   "cell_type": "code",
   "execution_count": null,
   "metadata": {},
   "outputs": [],
   "source": [
    "# Solicitar al usuario ingresar números separados por comas para cada conjunto\n",
    "numeros1 = set(input(\"Ingresa números para el primer conjunto: \").split(\",\"))\n",
    "numeros2 = set(input(\"Ingresa números para el segundo conjunto: \").split(\",\"))\n",
    "\n",
    "# Verificar si los conjuntos tienen elementos en común\n",
    "tienen_elementos_comunes = numeros1.isdisjoint(numeros2)\n",
    "\n",
    "# Crear un conjunto con la unión de ambos conjuntos\n",
    "union_conjuntos = numeros1.union(numeros2)\n",
    "\n",
    "print(\"¿Que elementos tienen en común?\", tienen_elementos_comunes)\n",
    "print(\"Unión de conjuntos:\", union_conjuntos)"
   ]
  }
 ],
 "metadata": {
  "language_info": {
   "name": "python"
  },
  "orig_nbformat": 4
 },
 "nbformat": 4,
 "nbformat_minor": 2
}
