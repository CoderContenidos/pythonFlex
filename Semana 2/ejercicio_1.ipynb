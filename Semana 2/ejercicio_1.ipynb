{
 "cells": [
  {
   "cell_type": "markdown",
   "metadata": {},
   "source": [
    "### Nombres unicos\n",
    "Crea un programa que solicite al usuario ingresar nombres separados por comas. Luego, crea un conjunto con los nombres ingresados y muestra por pantalla la cantidad de nombres únicos en el conjunto."
   ]
  },
  {
   "cell_type": "code",
   "execution_count": null,
   "metadata": {},
   "outputs": [],
   "source": [
    "# Solicitar al usuario ingresar nombres separados por comas\n",
    "nombres_ingresados = input(\"Ingresa nombres separados por comas: \")\n",
    "\n",
    "# Crear un conjunto a partir de los nombres\n",
    "conjunto_nombres = set(nombres_ingresados.split(\",\"))\n",
    "\n",
    "# Mostrar la cantidad de nombres únicos en el conjunto\n",
    "cantidad_nombres_unicos = len(conjunto_nombres)\n",
    "print(\"Cantidad de nombres únicos:\", cantidad_nombres_unicos)"
   ]
  }
 ],
 "metadata": {
  "language_info": {
   "name": "python"
  },
  "orig_nbformat": 4
 },
 "nbformat": 4,
 "nbformat_minor": 2
}
